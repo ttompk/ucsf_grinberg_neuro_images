{
 "cells": [
  {
   "cell_type": "markdown",
   "metadata": {},
   "source": [
    "[![Troy Tompkins](https://github.com/ttompk/musings/blob/master/images/t-dist.png?raw=true \"Troy's Github\")](https://github.com/ttompk/als) ![Troy](https://github.com/ttompk/musings/blob/master/images/name.png?raw=true)"
   ]
  },
  {
   "cell_type": "markdown",
   "metadata": {},
   "source": [
    "# Keras Convolutional Neural Net\n",
    "---"
   ]
  },
  {
   "cell_type": "markdown",
   "metadata": {},
   "source": [
    "[Today's Date]  "
   ]
  },
  {
   "cell_type": "code",
   "execution_count": 1,
   "metadata": {},
   "outputs": [
    {
     "name": "stdout",
     "output_type": "stream",
     "text": [
      "Written in python: 3.6.8\n",
      "Your python version: 3.6.8\n"
     ]
    }
   ],
   "source": [
    "from platform import python_version\n",
    "print(\"Written in python: 3.6.8\")\n",
    "print('Your python version: {}'.format(python_version()))"
   ]
  },
  {
   "cell_type": "markdown",
   "metadata": {},
   "source": [
    "## Notebook TOC\n",
    "---\n",
    "1. Overview\n",
    "2. Libraries\n",
    "3. Generalized Functions\n",
    "4. Data ETL\n",
    "5. Analysis\n",
    "6. Conclussion\n",
    "7. Next Steps"
   ]
  },
  {
   "cell_type": "markdown",
   "metadata": {},
   "source": [
    "## 1. Overview\n",
    "---\n",
    "This notebook was developed for image classification using the CIFAR10 dataset. Later the model will be the backbone for the UCSF detection system. It gets to 75% validation accuracy in 25 epochs, and 79% after 50 epochs. (it's still underfitting at that point, though).\n",
    "\n",
    "### Directive/Objective\n",
    "This neural net is designed to classify an image as 1 of 10 types using the Keras library. \n",
    "\n",
    "**The keras methodology:**   \n",
    "1. Split data into train/test  \n",
    "2. Pick a keras model - sequential is the basic architecture\n",
    "3. Add layers as needed:\n",
    "    - Note: in keras the first layer requires more parameters than subsequent layers. These parameters are passed through via the model class (e.g. sequential)  \n",
    "    - Weight initialization:   (fan_in: n of input units, fan_out: n of output units)  \n",
    "        - 'glorot_uniform' - Xavier uniform. Draws samples from a uniform distribution within [-limit, limit] where limit is sqrt(6 / (fan_in + fan_out)) where fan_in is the number of input units in the weight tensor and fan_out is the number of output units in the weight tensor.\n",
    "        - 'glorot_normal' - Xavier normal. Draws samples from a truncated normal distribution centered on 0 with stddev = sqrt(2 / (fan_in + fan_out)).\n",
    "        - 'he_normal' - draws samples from a truncated normal distribution centered on 0 with stddev = sqrt(2 / fan_in).\n",
    "        - 'he_uniform' - draws samples from a uniform distribution within [-limit, limit] where limit is sqrt(6 / fan_in).  \n",
    "        - ... others (https://keras.io/initializers/)  \n",
    "    - Types of layers in keras:  \n",
    "        - dense - simple layer. output = activation(dot(input, kernel) + bias)  \n",
    "        - activation - applies activation function to output (e.g. ReLu)  \n",
    "        - dropout - prevents overfitting by randomly dropping units (along with connections) during training. Better than regularization (so says this paper: http://www.jmlr.org/papers/volume15/srivastava14a/srivastava14a.pdf)\n",
    "        - flatten - converts input to one dimension for analysis in output layer  \n",
    "\n",
    "4. Use the '.compile' method to tell it how to learn (loss, optimizer, metrics)\n",
    "    - Loss:  'mean_squared_error', 'mean_absolute_error', 'mean_absolute_percentage_error', 'mean_squared_logarithmic_error', 'squared_hinge', 'hinge', 'categorical_hinge', 'logcosh', 'categorical_crossentropy', 'sparse_categorical_crossentropy', 'binary_crossentropy', 'kullback_leibler_divergence', 'poisson', 'cosine_proximity'\n",
    "    - Optimizers:  'SGD', 'RMSprop', 'Adagrad', 'Adam', 'Adamax', 'Nadam'\n",
    "    - Metrics:  'binary_accuracy', 'categorical_accuracy', 'sparse_categorical_accuracy', 'top_k_categorical_accuracy', 'sparse_top_k_categorical_accuracy'\n",
    "5. Fit the the data using batches\n",
    "6. Evaluate model performance on training data\n",
    "7. generate predictions on unseen data\n",
    "\n",
    "\n",
    "**Part 2**  \n",
    "That\n",
    "\n",
    "\n",
    "### Data Source\n",
    "The orginal data consisted of ...   \n",
    "\n"
   ]
  },
  {
   "cell_type": "markdown",
   "metadata": {},
   "source": [
    "## 2. Libraries\n",
    "---"
   ]
  },
  {
   "cell_type": "code",
   "execution_count": 2,
   "metadata": {},
   "outputs": [],
   "source": [
    "# basic kit\n",
    "import numpy as np\n",
    "import pandas as pd\n",
    "import matplotlib.pyplot as plt\n",
    "import seaborn as sn\n",
    "import os\n",
    "import pandas_profiling\n",
    "import re\n",
    "import collections"
   ]
  },
  {
   "cell_type": "code",
   "execution_count": null,
   "metadata": {},
   "outputs": [],
   "source": [
    "# keras neural nets\n",
    "#from __future__ import print_function\n",
    "import keras\n",
    "\n",
    "# image preprocessing class\n",
    "from keras.preprocessing.image import ImageDataGenerator\n",
    "\n",
    "# The nn architecture. The sequential model is the basic/classic 'linear' stack of layers. \n",
    "from keras.models import Sequential  \n",
    "\n",
    "# basic hidden layers \n",
    "from keras.layers import Dense  \n",
    "from keras.layers import Dropout \n",
    "from keras.layers import Activation\n",
    "from keras.layers import Flatten\n",
    "\n",
    "# image-related hidden layers - typically convolusion and pooling\n",
    "from keras.layers import Conv2D\n",
    "from keras.layers import MaxPooling2D"
   ]
  },
  {
   "cell_type": "code",
   "execution_count": 2,
   "metadata": {},
   "outputs": [],
   "source": [
    "%load_ext autoreload\n",
    "%autoreload 2"
   ]
  },
  {
   "cell_type": "markdown",
   "metadata": {},
   "source": [
    "## 3. Generalized Functions\n",
    "---"
   ]
  },
  {
   "cell_type": "code",
   "execution_count": null,
   "metadata": {},
   "outputs": [],
   "source": []
  },
  {
   "cell_type": "markdown",
   "metadata": {},
   "source": [
    "## 4. Data ETL\n",
    "---"
   ]
  },
  {
   "cell_type": "code",
   "execution_count": null,
   "metadata": {},
   "outputs": [],
   "source": [
    "# cifar10 data built into keras.\n",
    "from keras.datasets import cifar10"
   ]
  },
  {
   "cell_type": "code",
   "execution_count": 4,
   "metadata": {},
   "outputs": [],
   "source": [
    "# The data, split between train and test sets:\n",
    "(x_train, y_train), (x_test, y_test) = cifar10.load_data()\n",
    "print('x_train shape:', x_train.shape)\n",
    "print(x_train.shape[0], 'train samples')\n",
    "print(x_test.shape[0], 'test samples')"
   ]
  },
  {
   "cell_type": "code",
   "execution_count": null,
   "metadata": {},
   "outputs": [],
   "source": [
    "# Convert class vectors to binary class matrices. This is done because...\n",
    "y_train = keras.utils.to_categorical(y_train, num_classes)\n",
    "y_test = keras.utils.to_categorical(y_test, num_classes)"
   ]
  },
  {
   "cell_type": "markdown",
   "metadata": {},
   "source": [
    "### Model Architecture"
   ]
  },
  {
   "cell_type": "code",
   "execution_count": null,
   "metadata": {},
   "outputs": [],
   "source": [
    "# initialize basic model\n",
    "model = Sequential()\n",
    "\n",
    "# module 1 : 32 dimension output\n",
    "# convo details\n",
    "padding='same'\n",
    "m1_dimensions=32\n",
    "m1_kernel_size=(3,3)\n",
    "strides=(1,1)\n",
    "kernel_init = 'glorot_uniform'   # weight initialization\n",
    "\n",
    "# graph\n",
    "model.add(Conv2D(filters=m1_dimensions, kernel_size=m1_kernel_size, strides=strides, padding=padding,\n",
    "                 kernel_initializer=kernel_init,\n",
    "                 input_shape=x_train.shape[1:]))  #note: 'input_shape' only needed if first layer of model\n",
    "model.add(Activation('relu')) # activation for the previous layer.\n",
    "model.add(Conv2D(m1_dimensions, m1_kernel_size))\n",
    "model.add(Activation('relu'))\n",
    "model.add(MaxPooling2D(pool_size=(2, 2)))  # downscale data factor - can stretch i.e. (2,3)\n",
    "model.add(Dropout(0.25))"
   ]
  },
  {
   "cell_type": "code",
   "execution_count": null,
   "metadata": {},
   "outputs": [],
   "source": [
    "# module 2 : 64 dimension output\n",
    "m2_dimensions=64\n",
    "m2_kernel_size=(3,3)\n",
    "strides=(1,1)\n",
    "padding='same' \n",
    "model.add(Conv2D(m2_dimensions, m2_kernel_size, padding=padding))\n",
    "model.add(Activation('relu'))\n",
    "model.add(Conv2D(m2_dimensions, m2_kernel_size)\n",
    "model.add(Activation('relu'))\n",
    "model.add(MaxPooling2D(pool_size=(2, 2)))\n",
    "model.add(Dropout(0.25))"
   ]
  },
  {
   "cell_type": "code",
   "execution_count": null,
   "metadata": {},
   "outputs": [],
   "source": [
    "# output layer\n",
    "model.add(Flatten())\n",
    "model.add(Dense(units=512)) # units is the dimensionalty of the output space\n",
    "model.add(Activation('relu')) \n",
    "model.add(Dropout(0.5))\n",
    "model.add(Dense(num_classes))\n",
    "model.add(Activation('softmax'))\n",
    "\n",
    "# initiate RMSprop optimizer\n",
    "opt = keras.optimizers.RMSprop(lr=0.0001, decay=1e-6)\n",
    "#opt = optimizers.SGD(lr=0.01, decay=1e-6, momentum=0.9, nesterov=True)\n",
    "\n",
    "# Let's train the model using RMSprop \n",
    "model.compile(loss='categorical_crossentropy',\n",
    "              optimizer=opt,\n",
    "              metrics=['accuracy'])\n",
    "\n",
    "x_train = x_train.astype('float32')  # why change to float32? Save space?\n",
    "x_test = x_test.astype('float32')    \n",
    "x_train /= 255  # why divide by 255?\n",
    "x_test /= 255\n",
    "\n",
    "if not data_augmentation:\n",
    "    print('Not using data augmentation.')\n",
    "    model.fit(x_train, y_train,\n",
    "              batch_size=batch_size,\n",
    "              epochs=epochs,\n",
    "              validation_data=(x_test, y_test),\n",
    "              shuffle=True)\n",
    "else:\n",
    "    print('Using real-time data augmentation.')\n",
    "    # This will do preprocessing and realtime data augmentation:\n",
    "    datagen = ImageDataGenerator(\n",
    "        featurewise_center=False,  # for each feature, set input mean to 0 over the dataset\n",
    "        samplewise_center=False,  # set each sample mean to 0\n",
    "        featurewise_std_normalization=False,  # for each feature, divide inputs by std of the dataset\n",
    "        samplewise_std_normalization=False,  # divide each input by its std\n",
    "        zca_whitening=False,  # apply ZCA whitening. \n",
    "        zca_epsilon=1e-06,  # epsilon for ZCA whitening\n",
    "        rotation_range=0,  # randomly rotate images in the range (degrees, 0 to 180)\n",
    "        \n",
    "        # randomly shift images horizontally (width) or vertically (height)\n",
    "        # fraction of total width, if < 1, or pixels if >= 1.\n",
    "        width_shift_range=0.1,\n",
    "        height_shift_range=0.1,\n",
    "        \n",
    "        shear_range=0.,  # set range for random shear\n",
    "        zoom_range=0.,  # set range for random zoom\n",
    "        channel_shift_range=0.,  # set range for random channel shifts\n",
    "        \n",
    "        # set mode for filling points outside the input boundaries. Default \"nearest\"\n",
    "        # can be one of {\"constant\", \"nearest\", \"reflect\" or \"wrap\"}\n",
    "        fill_mode='nearest',\n",
    "        cval=0.,  # value used when fill_mode = \"constant\"\n",
    "        \n",
    "        horizontal_flip=True,  # randomly flip images\n",
    "        vertical_flip=False,  # randomly flip images\n",
    "        # set rescaling factor (applied before any other transformation)\n",
    "        rescale=None,\n",
    "        # set function that will be applied on each input\n",
    "        preprocessing_function=None,\n",
    "        # image data format, either \"channels_first\" or \"channels_last\"\n",
    "        data_format=None,\n",
    "        # fraction of images reserved for validation (strictly between 0 and 1)\n",
    "        validation_split=0.0)\n",
    "\n",
    "    # Compute quantities required for feature-wise normalization\n",
    "    # (std, mean, and principal components if ZCA whitening is applied).\n",
    "    datagen.fit(x_train)\n",
    "\n",
    "    # Fit the model on the batches generated by datagen.flow().\n",
    "    model.fit_generator(datagen.flow(x_train, y_train,\n",
    "                                     batch_size=batch_size),\n",
    "                        epochs=epochs,\n",
    "                        validation_data=(x_test, y_test),\n",
    "                        workers=4)\n",
    "\n",
    "# Save model and weights\n",
    "if not os.path.isdir(save_dir):\n",
    "    os.makedirs(save_dir)\n",
    "model_path = os.path.join(save_dir, model_name)\n",
    "model.save(model_path)\n",
    "print('Saved trained model at %s ' % model_path)\n",
    "\n",
    "# Score trained model.\n",
    "scores = model.evaluate(x_test, y_test, verbose=1)\n",
    "print('Test loss:', scores[0])\n",
    "print('Test accuracy:', scores[1])"
   ]
  },
  {
   "cell_type": "code",
   "execution_count": null,
   "metadata": {},
   "outputs": [],
   "source": []
  },
  {
   "cell_type": "code",
   "execution_count": null,
   "metadata": {},
   "outputs": [],
   "source": []
  },
  {
   "cell_type": "code",
   "execution_count": null,
   "metadata": {},
   "outputs": [],
   "source": []
  },
  {
   "cell_type": "markdown",
   "metadata": {},
   "source": [
    "## 5. Analysis\n",
    "---"
   ]
  },
  {
   "cell_type": "markdown",
   "metadata": {},
   "source": [
    "#### **1.**"
   ]
  },
  {
   "cell_type": "code",
   "execution_count": null,
   "metadata": {},
   "outputs": [],
   "source": []
  },
  {
   "cell_type": "markdown",
   "metadata": {},
   "source": [
    "#### **2.**"
   ]
  },
  {
   "cell_type": "code",
   "execution_count": null,
   "metadata": {},
   "outputs": [],
   "source": []
  },
  {
   "cell_type": "markdown",
   "metadata": {},
   "source": [
    "## 6. Conclussion\n",
    "---"
   ]
  },
  {
   "cell_type": "markdown",
   "metadata": {},
   "source": [
    "In this assignemnt I used descriptive stats, exploratory data analysis, and unsupervised learning on [type] data. The goal was to provide ..."
   ]
  },
  {
   "cell_type": "markdown",
   "metadata": {},
   "source": [
    "## 7. Next Steps\n",
    "---"
   ]
  },
  {
   "cell_type": "markdown",
   "metadata": {},
   "source": [
    "Thank you for the opportunity to briefly explore this dataset. I enjoyed it. If you have any questions please email me at ttompkasu@gmail.com. "
   ]
  }
 ],
 "metadata": {
  "kernelspec": {
   "display_name": "Python 3",
   "language": "python",
   "name": "python3"
  },
  "language_info": {
   "codemirror_mode": {
    "name": "ipython",
    "version": 3
   },
   "file_extension": ".py",
   "mimetype": "text/x-python",
   "name": "python",
   "nbconvert_exporter": "python",
   "pygments_lexer": "ipython3",
   "version": "3.6.8"
  }
 },
 "nbformat": 4,
 "nbformat_minor": 2
}
